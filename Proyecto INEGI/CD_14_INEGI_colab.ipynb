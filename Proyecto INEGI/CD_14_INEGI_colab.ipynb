{
 "cells": [
  {
   "cell_type": "markdown",
   "metadata": {
    "id": "47-pl1Rl1q7D"
   },
   "source": [
    "![Imagen](https://docs.google.com/uc?export=download&id=1rrUwI409dtetYdANj5ZhL1Z8O1Xj3IQK)  \n"
   ]
  },
  {
   "cell_type": "markdown",
   "metadata": {
    "id": "6bim-8S-1wea"
   },
   "source": [
    "    \n",
    "El **INEGI** es un organismo público autónomo responsable de normar y coordinar el Sistema Nacional de Información Estadística y Geográfica, así como de captar y difundir información de México en cuanto al territorio, los recursos, la población y economía, que permita dar a conocer las características de nuestro país y ayudar a la toma de decisiones."
   ]
  },
  {
   "cell_type": "markdown",
   "metadata": {
    "id": "oNjKtJSp2Eja"
   },
   "source": [
    "#  Historico de Población en México"
   ]
  },
  {
   "cell_type": "markdown",
   "metadata": {
    "id": "CglylwxU2EX5"
   },
   "source": [
    "## 1. Graficar el crecimiento de la población total, así como el de hombres y mujeres\n"
   ]
  },
  {
   "cell_type": "code",
   "execution_count": 6,
   "metadata": {
    "executionInfo": {
     "elapsed": 1644,
     "status": "ok",
     "timestamp": 1696509510368,
     "user": {
      "displayName": "Enrique Camacho",
      "userId": "10085043428175880734"
     },
     "user_tz": 360
    },
    "id": "utvjYCXC1vpZ"
   },
   "outputs": [],
   "source": [
    "import matplotlib.pyplot as plt\n",
    "import numpy as np\n",
    "import pandas as pd\n",
    "import requests\n",
    "import json\n",
    "import os\n",
    "import dotenv"
   ]
  },
  {
   "cell_type": "code",
   "execution_count": 20,
   "metadata": {
    "colab": {
     "base_uri": "https://localhost:8080/"
    },
    "executionInfo": {
     "elapsed": 1350,
     "status": "ok",
     "timestamp": 1696509520468,
     "user": {
      "displayName": "Enrique Camacho",
      "userId": "10085043428175880734"
     },
     "user_tz": 360
    },
    "id": "FRSjYNX6zxiF",
    "outputId": "5054ec8f-d21c-438c-d40f-0d87308722aa"
   },
   "outputs": [
    {
     "data": {
      "text/plain": [
       "200"
      ]
     },
     "execution_count": 20,
     "metadata": {},
     "output_type": "execute_result"
    }
   ],
   "source": [
    "#Llamado al API\n",
    "dotenv.load_dotenv()\n",
    "TOKEN = os.getenv(\"token\")\n",
    "url=f'https://www.inegi.org.mx/app/api/indicadores/desarrolladores/jsonxml/INDICATOR/1002000001/es/0700/false/BISE/2.0/{TOKEN}?type=json'\n",
    "respuesta = requests.get(url)\n",
    "respuesta.status_code"
   ]
  },
  {
   "cell_type": "code",
   "execution_count": 25,
   "metadata": {
    "executionInfo": {
     "elapsed": 851,
     "status": "ok",
     "timestamp": 1696509537639,
     "user": {
      "displayName": "Enrique Camacho",
      "userId": "10085043428175880734"
     },
     "user_tz": 360
    },
    "id": "GtacGpiy1oRE"
   },
   "outputs": [],
   "source": [
    "if respuesta.status_code == 200:\n",
    "    contenido = json.loads(respuesta.content)\n"
   ]
  },
  {
   "cell_type": "code",
   "execution_count": null,
   "metadata": {
    "id": "-TelXPcq2SjD"
   },
   "outputs": [],
   "source": []
  },
  {
   "cell_type": "markdown",
   "metadata": {
    "id": "u6o_YtR035iS"
   },
   "source": [
    "## 2. Mostrar en un mapa  el porcentaje de población de 12 años y más económicamente activa por estados.\n",
    "Utilizar alguna gama de color que a continuación se presenta.\n"
   ]
  },
  {
   "cell_type": "markdown",
   "metadata": {
    "id": "GUgkp3174B17"
   },
   "source": [
    "![Imagen](https://docs.google.com/uc?export=download&id=1ttSMxLfUH5-WweB4_US27c4eU_Q7FUH2)  \n"
   ]
  },
  {
   "cell_type": "code",
   "execution_count": 50,
   "metadata": {
    "id": "B4hBpuOi35OK"
   },
   "outputs": [
    {
     "data": {
      "text/plain": [
       "['https://www.inegi.org.mx/app/api/indicadores/desarrolladores/jsonxml/INDICATOR/6207019030/es/07000001/true/BISE/2.0/ec52bb03-dd1f-02e8-6a88-46c619187df8?type=json',\n",
       " 'https://www.inegi.org.mx/app/api/indicadores/desarrolladores/jsonxml/INDICATOR/6207019030/es/07000002/true/BISE/2.0/ec52bb03-dd1f-02e8-6a88-46c619187df8?type=json',\n",
       " 'https://www.inegi.org.mx/app/api/indicadores/desarrolladores/jsonxml/INDICATOR/6207019030/es/07000003/true/BISE/2.0/ec52bb03-dd1f-02e8-6a88-46c619187df8?type=json',\n",
       " 'https://www.inegi.org.mx/app/api/indicadores/desarrolladores/jsonxml/INDICATOR/6207019030/es/07000004/true/BISE/2.0/ec52bb03-dd1f-02e8-6a88-46c619187df8?type=json',\n",
       " 'https://www.inegi.org.mx/app/api/indicadores/desarrolladores/jsonxml/INDICATOR/6207019030/es/07000005/true/BISE/2.0/ec52bb03-dd1f-02e8-6a88-46c619187df8?type=json',\n",
       " 'https://www.inegi.org.mx/app/api/indicadores/desarrolladores/jsonxml/INDICATOR/6207019030/es/07000006/true/BISE/2.0/ec52bb03-dd1f-02e8-6a88-46c619187df8?type=json',\n",
       " 'https://www.inegi.org.mx/app/api/indicadores/desarrolladores/jsonxml/INDICATOR/6207019030/es/07000007/true/BISE/2.0/ec52bb03-dd1f-02e8-6a88-46c619187df8?type=json',\n",
       " 'https://www.inegi.org.mx/app/api/indicadores/desarrolladores/jsonxml/INDICATOR/6207019030/es/07000008/true/BISE/2.0/ec52bb03-dd1f-02e8-6a88-46c619187df8?type=json',\n",
       " 'https://www.inegi.org.mx/app/api/indicadores/desarrolladores/jsonxml/INDICATOR/6207019030/es/07000009/true/BISE/2.0/ec52bb03-dd1f-02e8-6a88-46c619187df8?type=json',\n",
       " 'https://www.inegi.org.mx/app/api/indicadores/desarrolladores/jsonxml/INDICATOR/6207019030/es/07000010/true/BISE/2.0/ec52bb03-dd1f-02e8-6a88-46c619187df8?type=json',\n",
       " 'https://www.inegi.org.mx/app/api/indicadores/desarrolladores/jsonxml/INDICATOR/6207019030/es/07000011/true/BISE/2.0/ec52bb03-dd1f-02e8-6a88-46c619187df8?type=json',\n",
       " 'https://www.inegi.org.mx/app/api/indicadores/desarrolladores/jsonxml/INDICATOR/6207019030/es/07000012/true/BISE/2.0/ec52bb03-dd1f-02e8-6a88-46c619187df8?type=json',\n",
       " 'https://www.inegi.org.mx/app/api/indicadores/desarrolladores/jsonxml/INDICATOR/6207019030/es/07000013/true/BISE/2.0/ec52bb03-dd1f-02e8-6a88-46c619187df8?type=json',\n",
       " 'https://www.inegi.org.mx/app/api/indicadores/desarrolladores/jsonxml/INDICATOR/6207019030/es/07000014/true/BISE/2.0/ec52bb03-dd1f-02e8-6a88-46c619187df8?type=json',\n",
       " 'https://www.inegi.org.mx/app/api/indicadores/desarrolladores/jsonxml/INDICATOR/6207019030/es/07000015/true/BISE/2.0/ec52bb03-dd1f-02e8-6a88-46c619187df8?type=json',\n",
       " 'https://www.inegi.org.mx/app/api/indicadores/desarrolladores/jsonxml/INDICATOR/6207019030/es/07000016/true/BISE/2.0/ec52bb03-dd1f-02e8-6a88-46c619187df8?type=json',\n",
       " 'https://www.inegi.org.mx/app/api/indicadores/desarrolladores/jsonxml/INDICATOR/6207019030/es/07000017/true/BISE/2.0/ec52bb03-dd1f-02e8-6a88-46c619187df8?type=json',\n",
       " 'https://www.inegi.org.mx/app/api/indicadores/desarrolladores/jsonxml/INDICATOR/6207019030/es/07000018/true/BISE/2.0/ec52bb03-dd1f-02e8-6a88-46c619187df8?type=json',\n",
       " 'https://www.inegi.org.mx/app/api/indicadores/desarrolladores/jsonxml/INDICATOR/6207019030/es/07000019/true/BISE/2.0/ec52bb03-dd1f-02e8-6a88-46c619187df8?type=json',\n",
       " 'https://www.inegi.org.mx/app/api/indicadores/desarrolladores/jsonxml/INDICATOR/6207019030/es/07000020/true/BISE/2.0/ec52bb03-dd1f-02e8-6a88-46c619187df8?type=json',\n",
       " 'https://www.inegi.org.mx/app/api/indicadores/desarrolladores/jsonxml/INDICATOR/6207019030/es/07000021/true/BISE/2.0/ec52bb03-dd1f-02e8-6a88-46c619187df8?type=json',\n",
       " 'https://www.inegi.org.mx/app/api/indicadores/desarrolladores/jsonxml/INDICATOR/6207019030/es/07000022/true/BISE/2.0/ec52bb03-dd1f-02e8-6a88-46c619187df8?type=json',\n",
       " 'https://www.inegi.org.mx/app/api/indicadores/desarrolladores/jsonxml/INDICATOR/6207019030/es/07000023/true/BISE/2.0/ec52bb03-dd1f-02e8-6a88-46c619187df8?type=json',\n",
       " 'https://www.inegi.org.mx/app/api/indicadores/desarrolladores/jsonxml/INDICATOR/6207019030/es/07000024/true/BISE/2.0/ec52bb03-dd1f-02e8-6a88-46c619187df8?type=json',\n",
       " 'https://www.inegi.org.mx/app/api/indicadores/desarrolladores/jsonxml/INDICATOR/6207019030/es/07000025/true/BISE/2.0/ec52bb03-dd1f-02e8-6a88-46c619187df8?type=json',\n",
       " 'https://www.inegi.org.mx/app/api/indicadores/desarrolladores/jsonxml/INDICATOR/6207019030/es/07000026/true/BISE/2.0/ec52bb03-dd1f-02e8-6a88-46c619187df8?type=json',\n",
       " 'https://www.inegi.org.mx/app/api/indicadores/desarrolladores/jsonxml/INDICATOR/6207019030/es/07000027/true/BISE/2.0/ec52bb03-dd1f-02e8-6a88-46c619187df8?type=json',\n",
       " 'https://www.inegi.org.mx/app/api/indicadores/desarrolladores/jsonxml/INDICATOR/6207019030/es/07000028/true/BISE/2.0/ec52bb03-dd1f-02e8-6a88-46c619187df8?type=json',\n",
       " 'https://www.inegi.org.mx/app/api/indicadores/desarrolladores/jsonxml/INDICATOR/6207019030/es/07000029/true/BISE/2.0/ec52bb03-dd1f-02e8-6a88-46c619187df8?type=json',\n",
       " 'https://www.inegi.org.mx/app/api/indicadores/desarrolladores/jsonxml/INDICATOR/6207019030/es/07000030/true/BISE/2.0/ec52bb03-dd1f-02e8-6a88-46c619187df8?type=json',\n",
       " 'https://www.inegi.org.mx/app/api/indicadores/desarrolladores/jsonxml/INDICATOR/6207019030/es/07000031/true/BISE/2.0/ec52bb03-dd1f-02e8-6a88-46c619187df8?type=json',\n",
       " 'https://www.inegi.org.mx/app/api/indicadores/desarrolladores/jsonxml/INDICATOR/6207019030/es/07000032/true/BISE/2.0/ec52bb03-dd1f-02e8-6a88-46c619187df8?type=json']"
      ]
     },
     "execution_count": 50,
     "metadata": {},
     "output_type": "execute_result"
    }
   ],
   "source": [
    "url_lista = []\n",
    "for i in range(1,33):\n",
    "    if i < 10:\n",
    "        url=f\"https://www.inegi.org.mx/app/api/indicadores/desarrolladores/jsonxml/INDICATOR/6207019030/es/0700000{i}/true/BISE/2.0/{TOKEN}?type=json\"\n",
    "    else:\n",
    "        url=f\"https://www.inegi.org.mx/app/api/indicadores/desarrolladores/jsonxml/INDICATOR/6207019030/es/070000{i}/true/BISE/2.0/{TOKEN}?type=json\"\n",
    "    url_lista.append(url)\n",
    "url_lista"
   ]
  },
  {
   "cell_type": "code",
   "execution_count": 56,
   "metadata": {},
   "outputs": [
    {
     "ename": "TypeError",
     "evalue": "byte indices must be integers or slices, not str",
     "output_type": "error",
     "traceback": [
      "\u001b[1;31m---------------------------------------------------------------------------\u001b[0m",
      "\u001b[1;31mTypeError\u001b[0m                                 Traceback (most recent call last)",
      "Cell \u001b[1;32mIn[56], line 8\u001b[0m\n\u001b[0;32m      6\u001b[0m respuesta \u001b[38;5;241m=\u001b[39m requests\u001b[38;5;241m.\u001b[39mget(url_lista[_])\n\u001b[0;32m      7\u001b[0m \u001b[38;5;28;01mif\u001b[39;00m respuesta\u001b[38;5;241m.\u001b[39mstatus_code \u001b[38;5;241m==\u001b[39m \u001b[38;5;241m200\u001b[39m:\n\u001b[1;32m----> 8\u001b[0m     porcentaje\u001b[38;5;241m.\u001b[39mappend(\u001b[43mrespuesta\u001b[49m\u001b[38;5;241;43m.\u001b[39;49m\u001b[43mcontent\u001b[49m\u001b[43m[\u001b[49m\u001b[38;5;124;43m'\u001b[39;49m\u001b[38;5;124;43mSeries\u001b[39;49m\u001b[38;5;124;43m'\u001b[39;49m\u001b[43m]\u001b[49m[\u001b[38;5;241m0\u001b[39m][\u001b[38;5;124m'\u001b[39m\u001b[38;5;124mOBSERVATIONS\u001b[39m\u001b[38;5;124m'\u001b[39m][\u001b[38;5;241m0\u001b[39m][\u001b[38;5;124m'\u001b[39m\u001b[38;5;124mOBS_VALUE\u001b[39m\u001b[38;5;124m'\u001b[39m])\n",
      "\u001b[1;31mTypeError\u001b[0m: byte indices must be integers or slices, not str"
     ]
    }
   ],
   "source": [
    "id = []\n",
    "porcentaje = []\n",
    "contenido = []\n",
    "for _ in range(1, 33):\n",
    "    id.append(_)\n",
    "    respuesta = requests.get(url_lista[_])\n",
    "    if respuesta.status_code == 200:\n",
    "        contenido = \n",
    "        porcentaje.append(respuesta.content['Series'][0]['OBSERVATIONS'][0]['OBS_VALUE'])\n"
   ]
  },
  {
   "cell_type": "code",
   "execution_count": null,
   "metadata": {},
   "outputs": [],
   "source": []
  }
 ],
 "metadata": {
  "colab": {
   "authorship_tag": "ABX9TyO7Bu/0L3woWpfkvb2XXlzo",
   "provenance": []
  },
  "kernelspec": {
   "display_name": "Python 3 (ipykernel)",
   "language": "python",
   "name": "python3"
  },
  "language_info": {
   "codemirror_mode": {
    "name": "ipython",
    "version": 3
   },
   "file_extension": ".py",
   "mimetype": "text/x-python",
   "name": "python",
   "nbconvert_exporter": "python",
   "pygments_lexer": "ipython3",
   "version": "3.11.4"
  }
 },
 "nbformat": 4,
 "nbformat_minor": 4
}
