{
 "cells": [
  {
   "cell_type": "markdown",
   "metadata": {},
   "source": [
    "<!--Información del curso-->\n",
    "<img align=\"left\" style=\"padding-right:10px;\" src=\"figuras/logo_ciencia_datos.png\">"
   ]
  },
  {
   "cell_type": "markdown",
   "metadata": {},
   "source": [
    "<center><h1 style=\"font-size:2em;color:#2467C0\"> Pandas y GLOB  </h1></center>\n",
    "\n",
    "<center><h2 style=\"font-size:2em;color:#840700\">   Manipulación de archivos con GLOB </h4></center>\n",
    "\n",
    "<br>\n",
    "<table>\n",
    "<col width=\"250\">\n",
    "<col width=\"750\">\n",
    "<tr>\n",
    "<td><img src=\"figuras/glob.png\" align=\"left\" style=\"width:150px\"/></td>\n",
    "<td>\n",
    "\n",
    "La función **glob.glob()** devuelve una lista con las entradas que coincidan con el patrón especificado en *pathname*.\n",
    "\n",
    "**glob.glob( *pathname* , recursive=False)** \n",
    "    \n",
    "<br>\n",
    "</td>\n",
    "</tr>\n",
    "</table>"
   ]
  },
  {
   "cell_type": "markdown",
   "metadata": {},
   "source": [
    "## Integrantes\n",
    "\n",
    "Nombre 1:\n",
    "\n",
    "Nombre 2:"
   ]
  },
  {
   "cell_type": "markdown",
   "metadata": {},
   "source": [
    "# Librerías\n",
    "\n",
    "Cargando las bibliotecas que necesitamos \n"
   ]
  },
  {
   "cell_type": "code",
   "execution_count": null,
   "metadata": {},
   "outputs": [],
   "source": [
    "import pandas as pd\n",
    "import numpy as np\n",
    "import matplotlib.pyplot as plt\n",
    "import glob"
   ]
  },
  {
   "cell_type": "markdown",
   "metadata": {},
   "source": [
    "## Mostrando todos los archivos de \"/datos\"\n",
    "\n",
    "La salida serán los archivos en forma de lista"
   ]
  },
  {
   "cell_type": "code",
   "execution_count": null,
   "metadata": {},
   "outputs": [],
   "source": [
    "# establecer ruta de búsqueda  \n",
    "path = 'datos'\n",
    "files = glob.glob(path + '/*')\n",
    "files"
   ]
  },
  {
   "cell_type": "markdown",
   "metadata": {},
   "source": [
    "## Mostrando  los archivos  **.txt** de \"/datos\"\n",
    "\n",
    "La salida serán los archivos .txt en forma de lista"
   ]
  },
  {
   "cell_type": "code",
   "execution_count": null,
   "metadata": {},
   "outputs": [],
   "source": [
    "# establecer ruta de búsqueda  \n",
    "# aquí queremos buscar archivos txt  \n",
    "path = 'datos'\n",
    "files = glob.glob(path + '/*.txt')\n",
    "files"
   ]
  },
  {
   "cell_type": "markdown",
   "metadata": {},
   "source": [
    "## Mostrando  los archivos .csv de \"/datos\"\n",
    "\n",
    "La salida serán los archivos .csv en forma de lista"
   ]
  },
  {
   "cell_type": "code",
   "execution_count": null,
   "metadata": {},
   "outputs": [],
   "source": [
    "# establecer ruta de búsqueda  \n",
    "# aquí queremos buscar archivos csv  \n",
    "path = 'datos'\n",
    "files = glob.glob(path + '/*.csv')\n",
    "files"
   ]
  },
  {
   "cell_type": "markdown",
   "metadata": {},
   "source": [
    "## Concatenando todos los archivos .csv para formar un dataframe\n"
   ]
  },
  {
   "cell_type": "code",
   "execution_count": null,
   "metadata": {},
   "outputs": [],
   "source": [
    "# establecer ruta de búsqueda  \n",
    "# aquí queremos buscar archivos csv  \n",
    "path = 'datos'\n",
    "files = \n",
    "# crear una lista vacía para almacenar  los dataframes\n",
    "\n",
    "\n",
    "# recorrer la lista de archivos para crear la lista de archivos \n",
    "\n",
    "\n",
    "# concatenación\n"
   ]
  },
  {
   "cell_type": "markdown",
   "metadata": {},
   "source": [
    "## Concatenando los archivos .csv del primer semestre \n",
    "\n",
    "El comodín * representa desde nada, hasta cualquier cantidad de caracteres y dígitos"
   ]
  },
  {
   "cell_type": "code",
   "execution_count": null,
   "metadata": {},
   "outputs": [],
   "source": [
    "# establecer ruta de búsqueda  \n",
    "# aquí queremos buscar archivos csv  \n",
    "path = 'datos'\n",
    "files = \n",
    "\n",
    "# crear una lista vacía para almacenar  los dataframes\n",
    "\n",
    "\n",
    "# recorrer la lista de archivos para crear la lista de archivos \n",
    "\n",
    "\n",
    "# concatenación\n"
   ]
  },
  {
   "cell_type": "markdown",
   "metadata": {},
   "source": [
    "## Concatenando los archivos .csv del primer y segundo semestre \n",
    "\n",
    "El comodín **[ ]**  representa un rango,  ya sea de caracteres o de números. "
   ]
  },
  {
   "cell_type": "code",
   "execution_count": null,
   "metadata": {},
   "outputs": [],
   "source": [
    "# establecer ruta de búsqueda  \n",
    "# aquí queremos buscar archivos csv  \n",
    "path = 'datos'\n",
    "files = \n",
    "\n",
    "# crear una lista vacía para almacenar  los dataframes\n",
    "\n",
    "\n",
    "# recorrer la lista de archivos para crear la lista de archivos \n",
    "\n",
    "\n",
    "# concatenación\n",
    "\n"
   ]
  },
  {
   "cell_type": "markdown",
   "metadata": {},
   "source": [
    "## Concatenando los archivos .csv de los grupos \"a\"\n",
    "El comodín **?** Representa un único carácter."
   ]
  },
  {
   "cell_type": "code",
   "execution_count": null,
   "metadata": {},
   "outputs": [],
   "source": [
    "# establecer ruta de búsqueda  \n",
    "# aquí queremos buscar archivos csv  \n",
    "path = 'datos'\n",
    "files =  \n",
    "\n",
    "# crear una lista vacía para almacenar  los dataframes\n",
    "\n",
    "\n",
    "# recorrer la lista de archivos para crear la lista de archivos \n",
    "\n",
    "\n",
    "# concatenación\n"
   ]
  },
  {
   "cell_type": "markdown",
   "metadata": {},
   "source": [
    "## Concatenando los archivos .csv de los grupos \"a\" y \"b\"\n",
    "\n",
    "El comodín **[ ]**  representa un rango,  ya sea de caracteres o de números. "
   ]
  },
  {
   "cell_type": "code",
   "execution_count": null,
   "metadata": {},
   "outputs": [],
   "source": [
    "# establecer ruta de búsqueda  \n",
    "# aquí queremos buscar archivos csv  \n",
    "path = 'datos'\n",
    "files =  \n",
    "\n",
    "# crear una lista vacía para almacenar  los dataframes\n",
    " \n",
    "\n",
    "# recorrer la lista de archivos para crear la lista de archivos \n",
    "\n",
    "\n",
    "# concatenación\n",
    "\n"
   ]
  },
  {
   "cell_type": "markdown",
   "metadata": {},
   "source": [
    "# TAREA"
   ]
  },
  {
   "cell_type": "markdown",
   "metadata": {},
   "source": [
    "<div class=\"alert alert-success\">\n",
    "<b>EJERCICIO 1: Concatenar todos los archivos  .csv  </b>:\n",
    "\n",
    " <ul>\n",
    "  <li> a) Encontrar el promedio y   desviación estándar  </li>\n",
    "  <li> b) Datos del estudiante(s) con la calificación más alta </li>   \n",
    "  <li> c) Datos del estudiante(s) con la calificación más baja </li>  \n",
    "  <li> d) El nombre que más se repite </li>  \n",
    "  <li> e) El apellido que más se repite </li>       \n",
    "     \n",
    "</ul>\n",
    "</div>"
   ]
  },
  {
   "cell_type": "code",
   "execution_count": null,
   "metadata": {},
   "outputs": [],
   "source": []
  },
  {
   "cell_type": "markdown",
   "metadata": {},
   "source": [
    "<div class=\"alert alert-success\">\n",
    "<b>EJERCICIO 2: Concatenar todos los archivos  .csv del primer semestre </b>:\n",
    "\n",
    " <ul>\n",
    "  <li> a) Encontrar el promedio y   desviación estándar  </li>\n",
    "  <li> b) Datos del estudiante(s) con la calificación más alta </li>   \n",
    "  <li> c) Datos del estudiante(s) con la calificación más baja </li>   \n",
    "</ul>\n",
    "</div>"
   ]
  },
  {
   "cell_type": "code",
   "execution_count": null,
   "metadata": {},
   "outputs": [],
   "source": []
  },
  {
   "cell_type": "markdown",
   "metadata": {},
   "source": [
    "<div class=\"alert alert-success\">\n",
    "<b>EJERCICIO 3: Concatenar todos los archivos .csv de los grupos \"c\", es decir semestre1c, semestre2c y semestre3c </b>:\n",
    "\n",
    " <ul>\n",
    "  <li> a) Encontrar el promedio y   desviación estándar  </li>\n",
    "  <li> b) Datos del estudiante(s) con la calificación más alta </li>   \n",
    "  <li> c) Datos del estudiante(s) con la calificación más baja </li>   \n",
    "</ul>\n",
    "</div>"
   ]
  },
  {
   "cell_type": "code",
   "execution_count": null,
   "metadata": {},
   "outputs": [],
   "source": []
  },
  {
   "cell_type": "code",
   "execution_count": null,
   "metadata": {},
   "outputs": [],
   "source": []
  },
  {
   "cell_type": "markdown",
   "metadata": {},
   "source": [
    "<div class=\"alert alert-success\">\n",
    "<b>EJERCICIO 4: Concatenar todos los archivos .csv de los semestres 2 y 3  </b>:\n",
    "\n",
    " <ul>\n",
    "  <li> a) Encontrar el promedio y   desviación estándar  </li>\n",
    "  <li> b) Datos del estudiante(s) con la calificación más alta </li>   \n",
    "  <li> c) Datos del estudiante(s) con la calificación más baja </li>   \n",
    "</ul>\n",
    "</div>"
   ]
  },
  {
   "cell_type": "code",
   "execution_count": null,
   "metadata": {},
   "outputs": [],
   "source": []
  },
  {
   "cell_type": "code",
   "execution_count": null,
   "metadata": {},
   "outputs": [],
   "source": []
  }
 ],
 "metadata": {
  "kernelspec": {
   "display_name": "Python 3 (ipykernel)",
   "language": "python",
   "name": "python3"
  },
  "language_info": {
   "codemirror_mode": {
    "name": "ipython",
    "version": 3
   },
   "file_extension": ".py",
   "mimetype": "text/x-python",
   "name": "python",
   "nbconvert_exporter": "python",
   "pygments_lexer": "ipython3",
   "version": "3.11.3"
  }
 },
 "nbformat": 4,
 "nbformat_minor": 4
}
